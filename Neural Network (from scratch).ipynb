{
 "cells": [
  {
   "cell_type": "markdown",
   "id": "eb1d8b36",
   "metadata": {},
   "source": [
    "# Import Library"
   ]
  },
  {
   "cell_type": "code",
   "execution_count": 1,
   "id": "cdf4c1d9",
   "metadata": {},
   "outputs": [],
   "source": [
    "import numpy as np"
   ]
  },
  {
   "cell_type": "markdown",
   "id": "a4fa525f",
   "metadata": {},
   "source": [
    "# Sigmoid Function"
   ]
  },
  {
   "cell_type": "code",
   "execution_count": 2,
   "id": "5d9580d1",
   "metadata": {},
   "outputs": [],
   "source": [
    "def sigmoid(X):\n",
    "    return 1 / (1 + np.exp(-X))"
   ]
  },
  {
   "cell_type": "markdown",
   "id": "2c33fc62",
   "metadata": {},
   "source": [
    "# Sigmoid Derivative Function"
   ]
  },
  {
   "cell_type": "code",
   "execution_count": 3,
   "id": "4dfc10fc",
   "metadata": {},
   "outputs": [],
   "source": [
    "def sigmoid_derivative(X):\n",
    "    return X * (1 - X)"
   ]
  },
  {
   "cell_type": "markdown",
   "id": "01127e99",
   "metadata": {},
   "source": [
    "# Neural Network"
   ]
  },
  {
   "cell_type": "code",
   "execution_count": 4,
   "id": "261012d5",
   "metadata": {},
   "outputs": [],
   "source": [
    "class NeuralNetwork:\n",
    "    def __init__(self, X, Y):\n",
    "        \n",
    "        self.input = X\n",
    "        #print('Inputs: \\n', self.input)\n",
    "        #print()\n",
    "        \n",
    "        self.weight1 = np.random.rand(self.input.shape[1], 4)\n",
    "        #print('Weight 1: \\n', self.weight1)\n",
    "        #print()\n",
    "        \n",
    "        self.weight2 = np.random.rand(self.weight1.shape[1], 4)\n",
    "        #print('Weight 2: \\n', self.weight2)\n",
    "        #print()\n",
    "        \n",
    "        self.weight3 = np.random.rand(self.weight2.shape[1], 1)\n",
    "        #print('Weight 3: \\n', self.weight3)\n",
    "        #print()\n",
    "        \n",
    "        self.Y = Y\n",
    "        #print('Y: \\n', self.Y)\n",
    "        #print()\n",
    "        \n",
    "        self.Output = np.zeros(self.Y.shape) # h(x) --> Predicted Value\n",
    "        #print('Output: \\n', self.Output)\n",
    "        #print()\n",
    "        \n",
    "        \n",
    "    def FeedForwardProp(self):\n",
    "        \n",
    "        self.layer1 = sigmoid(np.dot(self.input, self.weight1))\n",
    "        #print('Layer 1: \\n', self.layer1)\n",
    "        #print()\n",
    "        \n",
    "        self.layer2 = sigmoid(np.dot(self.layer1, self.weight2))\n",
    "        #print('Layer 2: \\n', self.layer2)\n",
    "        #print()\n",
    "        \n",
    "        self.Output = sigmoid(np.dot(self.layer2, self.weight3))\n",
    "        #print('Output: \\n', self.Output)\n",
    "        #print()\n",
    "        \n",
    "        \n",
    "    def BackProp(self):\n",
    "        \n",
    "        d_weight3 = np.dot(self.layer2.T, (2 * (self.Y - self.Output) * sigmoid_derivative(self.Output)))\n",
    "        #print('d_Weight3: \\n', d_weight3)\n",
    "        #print()\n",
    "        \n",
    "        d_weight2 = np.dot(self.layer1.T,\n",
    "                           ((np.dot(2 * (self.Y - self.Output) * sigmoid_derivative(self.Output), self.weight3.T)) * \n",
    "                            sigmoid_derivative(self.layer2)))\n",
    "        #print('d_Weight2: \\n', d_weight2)\n",
    "        #print()\n",
    "        \n",
    "        d_weight1 = np.dot(self.input.T,\n",
    "                           ((np.dot((np.dot(2 * (self.Y - self.Output) * sigmoid_derivative(self.Output), self.weight3.T)) \n",
    "                                    * sigmoid_derivative(self.layer2), self.weight2.T)) * \n",
    "                            sigmoid_derivative(self.layer1)))\n",
    "        #print('d_Weight1: \\n', d_weight1)\n",
    "        #print()\n",
    "        \n",
    "        self.weight1 += d_weight1\n",
    "        self.weight2 += d_weight2\n",
    "        self.weight3 += d_weight3"
   ]
  },
  {
   "cell_type": "markdown",
   "id": "a8d79b9e",
   "metadata": {},
   "source": [
    "# Inputs & Output"
   ]
  },
  {
   "cell_type": "code",
   "execution_count": 5,
   "id": "041ebc37",
   "metadata": {},
   "outputs": [],
   "source": [
    "X = np.array([ [0, 0, 1],\n",
    "               [0, 1, 1],\n",
    "               [1, 0, 1],\n",
    "               [1, 1, 1] ])\n",
    "\n",
    "Y = np.array([ [0],\n",
    "               [1],\n",
    "               [1], \n",
    "               [0] ])"
   ]
  },
  {
   "cell_type": "markdown",
   "id": "dfb95186",
   "metadata": {},
   "source": [
    "# Prediction"
   ]
  },
  {
   "cell_type": "code",
   "execution_count": 6,
   "id": "8e1a2bb5",
   "metadata": {},
   "outputs": [
    {
     "name": "stdout",
     "output_type": "stream",
     "text": [
      "\n",
      "Output (Prediction): \n",
      " [[0.00219274]\n",
      " [0.99511275]\n",
      " [0.99520673]\n",
      " [0.00575295]]\n"
     ]
    }
   ],
   "source": [
    "NN = NeuralNetwork(X, Y)\n",
    "\n",
    "for i in range(10000):\n",
    "    NN.FeedForwardProp()\n",
    "    NN.BackProp()\n",
    "#    print('---------------------------------------------------------------------')\n",
    "\n",
    "print()    \n",
    "print('Output (Prediction): \\n', NN.Output)"
   ]
  },
  {
   "cell_type": "markdown",
   "id": "0a3052f2",
   "metadata": {},
   "source": [
    "# Thank You"
   ]
  },
  {
   "cell_type": "markdown",
   "id": "fdcfb34c",
   "metadata": {},
   "source": [
    "# Eng. Abdulrhman Osama"
   ]
  }
 ],
 "metadata": {
  "kernelspec": {
   "display_name": "Python 3 (ipykernel)",
   "language": "python",
   "name": "python3"
  },
  "language_info": {
   "codemirror_mode": {
    "name": "ipython",
    "version": 3
   },
   "file_extension": ".py",
   "mimetype": "text/x-python",
   "name": "python",
   "nbconvert_exporter": "python",
   "pygments_lexer": "ipython3",
   "version": "3.11.7"
  }
 },
 "nbformat": 4,
 "nbformat_minor": 5
}
